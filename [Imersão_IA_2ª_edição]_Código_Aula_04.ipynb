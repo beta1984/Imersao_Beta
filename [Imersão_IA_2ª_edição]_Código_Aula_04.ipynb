{
  "cells": [
    {
      "cell_type": "markdown",
      "metadata": {
        "id": "view-in-github",
        "colab_type": "text"
      },
      "source": [
        "<a href=\"https://colab.research.google.com/github/beta1984/Imersao_Beta/blob/main/%5BImers%C3%A3o_IA_2%C2%AA_edi%C3%A7%C3%A3o%5D_C%C3%B3digo_Aula_04.ipynb\" target=\"_parent\"><img src=\"https://colab.research.google.com/assets/colab-badge.svg\" alt=\"Open In Colab\"/></a>"
      ]
    },
    {
      "cell_type": "code",
      "execution_count": 10,
      "metadata": {
        "id": "nFQLKQ6hfXch"
      },
      "outputs": [],
      "source": [
        "#Instalando o SDK do Google\n",
        "!pip install -q -U google-generativeai"
      ]
    },
    {
      "cell_type": "code",
      "execution_count": 11,
      "metadata": {
        "id": "IthzwfnAfcsi"
      },
      "outputs": [],
      "source": [
        "#Configurações iniciais\n",
        "import google.generativeai as genai\n",
        "from google.colab import userdata\n",
        "\n",
        "api_key = userdata.get('secretName')\n",
        "genai.configure(api_key=api_key)\n",
        "\n"
      ]
    },
    {
      "cell_type": "code",
      "execution_count": 13,
      "metadata": {
        "colab": {
          "base_uri": "https://localhost:8080/",
          "height": 142
        },
        "id": "iD3ihugymWBt",
        "outputId": "c7809d77-ade3-4b66-b735-08f0d6cf5e1e"
      },
      "outputs": [
        {
          "output_type": "stream",
          "name": "stdout",
          "text": [
            "models/gemini-1.0-pro\n",
            "models/gemini-1.0-pro-001\n",
            "models/gemini-1.0-pro-latest\n",
            "models/gemini-1.0-pro-vision-latest\n",
            "models/gemini-1.5-pro-latest\n",
            "models/gemini-pro\n",
            "models/gemini-pro-vision\n"
          ]
        }
      ],
      "source": [
        "#Listando os modelos disponíveis\n",
        "for m in genai.list_models():\n",
        "  if 'generateContent' in m.supported_generation_methods:\n",
        "    print(m.name)"
      ]
    },
    {
      "cell_type": "code",
      "execution_count": 14,
      "metadata": {
        "id": "O1ochaeyDn_o"
      },
      "outputs": [],
      "source": [
        "generation_config = {\n",
        "  \"candidate_count\": 1,\n",
        "  \"temperature\": 0.5,\n",
        "}"
      ]
    },
    {
      "cell_type": "code",
      "execution_count": 15,
      "metadata": {
        "id": "jwBv7DofDofw"
      },
      "outputs": [],
      "source": [
        "safety_settings={\n",
        "    'HATE': 'BLOCK_NONE',\n",
        "    'HARASSMENT': 'BLOCK_NONE',\n",
        "    'SEXUAL' : 'BLOCK_NONE',\n",
        "    'DANGEROUS' : 'BLOCK_NONE'\n",
        "    }"
      ]
    },
    {
      "cell_type": "code",
      "execution_count": 16,
      "metadata": {
        "id": "NIiSs1R5mVJE"
      },
      "outputs": [],
      "source": [
        "model = genai.GenerativeModel(model_name='gemini-1.0-pro',\n",
        "                                  generation_config=generation_config,\n",
        "                                  safety_settings=safety_settings,)"
      ]
    },
    {
      "cell_type": "code",
      "source": [],
      "metadata": {
        "id": "x3JOrOR5TvMb"
      },
      "execution_count": 15,
      "outputs": []
    },
    {
      "cell_type": "code",
      "execution_count": 19,
      "metadata": {
        "colab": {
          "base_uri": "https://localhost:8080/",
          "height": 53
        },
        "id": "vrRjhT2rlrU_",
        "outputId": "e9626ff7-4c2e-4e2e-b19b-54e9f177f969"
      },
      "outputs": [
        {
          "name": "stdout",
          "output_type": "stream",
          "text": [
            "Qual sua pergunta?que cor é o céu?\n"
          ]
        },
        {
          "output_type": "execute_result",
          "data": {
            "text/plain": [
              "'Azul'"
            ],
            "application/vnd.google.colaboratory.intrinsic+json": {
              "type": "string"
            }
          },
          "metadata": {},
          "execution_count": 19
        }
      ],
      "source": [
        "pergunta = input(\"Qual sua pergunta?\")\n",
        "response = model.generate_content(pergunta)\n",
        "response.text"
      ]
    },
    {
      "cell_type": "code",
      "execution_count": 21,
      "metadata": {
        "colab": {
          "base_uri": "https://localhost:8080/",
          "height": 1000
        },
        "id": "KpaQ6hm5f2_J",
        "outputId": "19cdfcee-b609-4b5e-fdea-e775c8d408bc"
      },
      "outputs": [
        {
          "output_type": "stream",
          "name": "stdout",
          "text": [
            "Qual sua pergunta?o que é saudavel comer para. emagrecer?\n",
            "Resposta: **Alimentos Integrais e Não Processados:**\n",
            "\n",
            "* Frutas: Maçãs, bananas, frutas vermelhas, frutas cítricas\n",
            "* Vegetais: Brócolis, espinafre, couve-flor, cenoura, aipo\n",
            "* Grãos integrais: Arroz integral, quinoa, aveia, pão integral\n",
            "* Proteínas magras: Peixe, frango, tofu, feijão, lentilha\n",
            "\n",
            "**Alimentos Ricos em Fibras:**\n",
            "\n",
            "* Frutas e vegetais\n",
            "* Grãos integrais\n",
            "* Leguminosas (feijão, lentilha, grão de bico)\n",
            "* Nozes e sementes\n",
            "\n",
            "**Alimentos Ricos em Proteínas:**\n",
            "\n",
            "* Proteínas magras (veja acima)\n",
            "* Ovos\n",
            "* Iogurte grego\n",
            "* Queijo cottage\n",
            "\n",
            "**Alimentos Ricos em Gorduras Saudáveis:**\n",
            "\n",
            "* Abacate\n",
            "* Nozes e sementes\n",
            "* Peixes gordurosos (salmão, atum, cavala)\n",
            "* Azeite\n",
            "\n",
            "**Alimentos Hidratantes:**\n",
            "\n",
            "* Água\n",
            "* Frutas e vegetais ricos em água (melancia, pepino, tomate)\n",
            "\n",
            "**Alimentos a Evitar ou Limitar:**\n",
            "\n",
            "* Alimentos processados\n",
            "* Alimentos açucarados\n",
            "* Bebidas açucaradas\n",
            "* Gorduras trans e saturadas\n",
            "* Carboidratos refinados (pão branco, arroz branco)\n",
            "* Álcool em excesso\n",
            "\n",
            "**Dicas Adicionais:**\n",
            "\n",
            "* Faça refeições regulares para evitar excessos.\n",
            "* Beba bastante água ao longo do dia.\n",
            "* Cozinhe mais refeições em casa para controlar os ingredientes.\n",
            "* Leia os rótulos dos alimentos e escolha opções com baixo teor de açúcar, gordura e sódio.\n",
            "* Priorize alimentos ricos em nutrientes em vez de alimentos vazios em calorias.\n",
            "* Procure orientação de um profissional de saúde ou nutricionista para um plano alimentar personalizado. \n",
            "\n",
            "\n",
            "Qual sua pergunta? O que devo comer para emagrecer 2 quilos em 1 mes?\n",
            "Resposta: Para perder 2 quilos em 1 mês de forma saudável e sustentável, você precisa criar um déficit calórico de cerca de 500-750 calorias por dia. Isso significa consumir menos calorias do que você queima.\n",
            "\n",
            "Aqui está um plano alimentar de amostra que pode ajudá-lo a atingir esse objetivo:\n",
            "\n",
            "**Café da Manhã (cerca de 300 calorias)**\n",
            "\n",
            "* 1 xícara de aveia com 1/2 xícara de frutas vermelhas e 1/4 xícara de nozes\n",
            "* OU\n",
            "* 2 ovos mexidos com 2 fatias de torrada integral e 1/2 abacate\n",
            "\n",
            "**Almoço (cerca de 400 calorias)**\n",
            "\n",
            "* Salada grande com 1 xícara de folhas verdes, 1/2 xícara de legumes grelhados, 4 onças de frango grelhado e 2 colheres de sopa de vinagrete\n",
            "* OU\n",
            "* Sanduíche de pão integral com 4 onças de peito de peru, 1/2 xícara de alface, 1/4 xícara de tomate e 1 colher de sopa de mostarda\n",
            "\n",
            "**Lanche (cerca de 150 calorias)**\n",
            "\n",
            "* 1 maçã com 2 colheres de sopa de manteiga de amendoim\n",
            "* OU\n",
            "* 1 xícara de iogurte grego com 1/4 xícara de frutas vermelhas\n",
            "\n",
            "**Jantar (cerca de 450 calorias)**\n",
            "\n",
            "* 4 onças de salmão grelhado com 1 xícara de brócolis cozido no vapor e 1/2 xícara de arroz integral\n",
            "* OU\n",
            "* 1 xícara de sopa de lentilha com 2 fatias de pão integral\n",
            "\n",
            "**Ceia (cerca de 100 calorias)**\n",
            "\n",
            "* 1 xícara de chá de ervas com 1 colher de chá de mel\n",
            "* OU\n",
            "* 1/2 banana com 1 colher de sopa de manteiga de amendoim\n",
            "\n",
            "**Total de calorias:** Cerca de 1400-1600\n",
            "\n",
            "**Dicas Adicionais:**\n",
            "\n",
            "* Beba bastante água ao longo do dia.\n",
            "* Faça refeições regulares para evitar excessos.\n",
            "* Escolha alimentos integrais e não processados sempre que possível.\n",
            "* Limite alimentos açucarados, bebidas açucaradas, gorduras trans e saturadas.\n",
            "* Cozinhe mais refeições em casa para controlar os ingredientes.\n",
            "* Leia os rótulos dos alimentos e escolha opções com baixo teor de açúcar, gordura e sódio.\n",
            "* Priorize alimentos ricos em nutrientes em vez de alimentos vazios em calorias.\n",
            "* Procure orientação de um profissional de saúde ou nutricionista para um plano alimentar personalizado.\n",
            "\n",
            "Lembre-se de que perder peso de forma saudável e sustentável leva tempo e esforço. Não desanime se não vir resultados imediatamente. Mantenha-se consistente com seu plano alimentar e estilo de vida saudável, e você alcançará seus objetivos. \n",
            "\n",
            "\n",
            "Qual sua pergunta?fim\n",
            "Resposta: Obrigado por usar meus serviços. Estou aqui para ajudá-lo com quaisquer outras dúvidas ou solicitações que você possa ter. \n",
            "\n",
            "\n"
          ]
        }
      ],
      "source": [
        "chat = model.start_chat(history=[])\n",
        "\n",
        "while pergunta != \"fim\":\n",
        "  pergunta = input(\"Qual sua pergunta?\")\n",
        "  response = model.generate_content(pergunta)\n",
        "  response.text\n",
        "\n",
        "  response = chat.send_message(pergunta)\n",
        "  print(\"Resposta:\", response.text, '\\n\\n')"
      ]
    },
    {
      "cell_type": "code",
      "execution_count": 8,
      "metadata": {
        "id": "XLAniTTDhHNW",
        "colab": {
          "base_uri": "https://localhost:8080/",
          "height": 144
        },
        "outputId": "11e5efd6-0d33-4943-dc21-5fcdc11dc04d"
      },
      "outputs": [
        {
          "output_type": "error",
          "ename": "NameError",
          "evalue": "name 'model' is not defined",
          "traceback": [
            "\u001b[0;31m---------------------------------------------------------------------------\u001b[0m",
            "\u001b[0;31mNameError\u001b[0m                                 Traceback (most recent call last)",
            "\u001b[0;32m<ipython-input-8-b9912a7e6e95>\u001b[0m in \u001b[0;36m<cell line: 1>\u001b[0;34m()\u001b[0m\n\u001b[0;32m----> 1\u001b[0;31m \u001b[0mchat\u001b[0m \u001b[0;34m=\u001b[0m \u001b[0mmodel\u001b[0m\u001b[0;34m.\u001b[0m\u001b[0mstart_chat\u001b[0m\u001b[0;34m\u001b[0m\u001b[0;34m\u001b[0m\u001b[0m\n\u001b[0m",
            "\u001b[0;31mNameError\u001b[0m: name 'model' is not defined"
          ]
        }
      ],
      "source": [
        "chat = model.start_chat"
      ]
    },
    {
      "cell_type": "code",
      "execution_count": null,
      "metadata": {
        "id": "sd8mvW9KghTf"
      },
      "outputs": [],
      "source": [
        "chat.history"
      ]
    },
    {
      "cell_type": "code",
      "execution_count": 20,
      "metadata": {
        "id": "dAcbPBocgzeX",
        "colab": {
          "base_uri": "https://localhost:8080/",
          "height": 216
        },
        "outputId": "9afd5e9a-9e79-4047-ce24-7f70089220c5"
      },
      "outputs": [
        {
          "output_type": "error",
          "ename": "NameError",
          "evalue": "name 'chat' is not defined",
          "traceback": [
            "\u001b[0;31m---------------------------------------------------------------------------\u001b[0m",
            "\u001b[0;31mNameError\u001b[0m                                 Traceback (most recent call last)",
            "\u001b[0;32m<ipython-input-20-7833beb268bc>\u001b[0m in \u001b[0;36m<cell line: 12>\u001b[0;34m()\u001b[0m\n\u001b[1;32m     10\u001b[0m \u001b[0;34m\u001b[0m\u001b[0m\n\u001b[1;32m     11\u001b[0m \u001b[0;31m#Imprimindo o histórico\u001b[0m\u001b[0;34m\u001b[0m\u001b[0;34m\u001b[0m\u001b[0m\n\u001b[0;32m---> 12\u001b[0;31m \u001b[0;32mfor\u001b[0m \u001b[0mmessage\u001b[0m \u001b[0;32min\u001b[0m \u001b[0mchat\u001b[0m\u001b[0;34m.\u001b[0m\u001b[0mhistory\u001b[0m\u001b[0;34m:\u001b[0m\u001b[0;34m\u001b[0m\u001b[0;34m\u001b[0m\u001b[0m\n\u001b[0m\u001b[1;32m     13\u001b[0m   \u001b[0mdisplay\u001b[0m\u001b[0;34m(\u001b[0m\u001b[0mto_markdown\u001b[0m\u001b[0;34m(\u001b[0m\u001b[0;34mf'**{message.role}**: {message.parts[0].text}'\u001b[0m\u001b[0;34m)\u001b[0m\u001b[0;34m)\u001b[0m\u001b[0;34m\u001b[0m\u001b[0;34m\u001b[0m\u001b[0m\n\u001b[1;32m     14\u001b[0m   \u001b[0mprint\u001b[0m\u001b[0;34m(\u001b[0m\u001b[0;34m'-------------------------------------------'\u001b[0m\u001b[0;34m)\u001b[0m\u001b[0;34m\u001b[0m\u001b[0;34m\u001b[0m\u001b[0m\n",
            "\u001b[0;31mNameError\u001b[0m: name 'chat' is not defined"
          ]
        }
      ],
      "source": [
        "#Melhorando a visualização\n",
        "#Código disponível em https://ai.google.dev/tutorials/python_quickstart#import_packages\n",
        "import textwrap\n",
        "from IPython.display import display\n",
        "from IPython.display import Markdown\n",
        "\n",
        "def to_markdown(text):\n",
        "  text = text.replace('•', '  *')\n",
        "  return Markdown(textwrap.indent(text, '> ', predicate=lambda _: True))\n",
        "\n",
        "#Imprimindo o histórico\n",
        "for message in chat.history:\n",
        "  display(to_markdown(f'**{message.role}**: {message.parts[0].text}'))\n",
        "  print('-------------------------------------------')"
      ]
    }
  ],
  "metadata": {
    "colab": {
      "provenance": [],
      "include_colab_link": true
    },
    "kernelspec": {
      "display_name": "Python 3",
      "name": "python3"
    },
    "language_info": {
      "name": "python"
    }
  },
  "nbformat": 4,
  "nbformat_minor": 0
}